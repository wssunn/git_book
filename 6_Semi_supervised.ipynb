{
 "cells": [
  {
   "cell_type": "code",
   "execution_count": 10,
   "metadata": {},
   "outputs": [],
   "source": [
    "import numpy as np\n",
    "import matplotlib.pyplot as plt\n",
    "from sklearn import  metrics\n",
    "from sklearn import datasets\n",
    "import warnings"
   ]
  },
  {
   "cell_type": "code",
   "execution_count": 11,
   "metadata": {},
   "outputs": [],
   "source": [
    "warnings.filterwarnings('ignore')"
   ]
  },
  {
   "cell_type": "markdown",
   "metadata": {},
   "source": [
    "## Label Propagation"
   ]
  },
  {
   "cell_type": "code",
   "execution_count": 12,
   "metadata": {},
   "outputs": [],
   "source": [
    "def load_data():\n",
    "    digits = datasets.load_digits()\n",
    "    ######   混洗样本　########\n",
    "    rng = np.random.RandomState(0)\n",
    "    indices = np.arange(len(digits.data)) # 样本下标集合\n",
    "    rng.shuffle(indices) # 混洗样本下标集合\n",
    "    X = digits.data[indices]\n",
    "    y = digits.target[indices]\n",
    "    ###### 生成未标记样本的下标集合 ####\n",
    "    n_labeled_points = int(len(y)/10) # 只有 10% 的样本有标记\n",
    "    unlabeled_indices = np.arange(len(y))[n_labeled_points:] # 后面 90% 的样本未标记\n",
    "\n",
    "    return X,y,unlabeled_indices"
   ]
  },
  {
   "cell_type": "code",
   "execution_count": 13,
   "metadata": {},
   "outputs": [
    {
     "name": "stdout",
     "output_type": "stream",
     "text": [
      "Accuracy:0.948084\n"
     ]
    }
   ],
   "source": [
    "from sklearn.semi_supervised import LabelPropagation\n",
    "\n",
    "def test_LabelPropagation(*data):\n",
    "    X,y,unlabeled_indices = data\n",
    "    y_train = np.copy(y) # 必须拷贝，后面要用到 y\n",
    "    y_train[unlabeled_indices] = -1 # 未标记样本的标记设定为 -1\n",
    "    clf = LabelPropagation(max_iter=100,kernel='rbf',gamma=0.1)\n",
    "    clf.fit(X,y_train)\n",
    "    ### 获取预测准确率\n",
    "    predicted_labels = clf.transduction_[unlabeled_indices] # 预测标记\n",
    "    true_labels = y[unlabeled_indices] # 真实标记\n",
    "    print(\"Accuracy:%f\"%clf.score(X[unlabeled_indices],true_labels))\n",
    "    \n",
    "data=load_data() # 获取半监督分类数据集\n",
    "test_LabelPropagation(*data) # 调用 test_LabelPropagation"
   ]
  },
  {
   "cell_type": "code",
   "execution_count": 18,
   "metadata": {},
   "outputs": [
    {
     "data": {
      "image/png": "[encoded data removed]",
      "text/plain": [
       "<Figure size 432x288 with 1 Axes>"
      ]
     },
     "metadata": {
      "needs_background": "light"
     },
     "output_type": "display_data"
    }
   ],
   "source": [
    "def test_LabelPropagation_rbf(*data):\n",
    "    '''\n",
    "    测试 LabelPropagation 的 rbf 核时，预测性能随 alpha 和 gamma 的变化\n",
    "\n",
    "    :param data: 一个元组，依次为： 样本集合、样本标记集合、 未标记样本的下标集合\n",
    "    :return: None\n",
    "    '''\n",
    "    X,y,unlabeled_indices=data\n",
    "    y_train=np.copy(y) # 必须拷贝，后面要用到 y\n",
    "    y_train[unlabeled_indices] = -1 # 未标记样本的标记设定为 -1\n",
    "\n",
    "    fig=plt.figure()\n",
    "    ax=fig.add_subplot(1,1,1)\n",
    "    gammas=np.logspace(-2,2,num=50)\n",
    "\n",
    "    ## 训练并绘图\n",
    "    scores=[]\n",
    "    for gamma in gammas:\n",
    "        clf=LabelPropagation(max_iter=100,gamma=gamma,kernel='rbf')\n",
    "        clf.fit(X,y_train)\n",
    "        scores.append(clf.score(X[unlabeled_indices],y[unlabeled_indices]))\n",
    "    ax.plot(gammas,scores)\n",
    "\n",
    "    ### 设置图形\n",
    "    ax.set_xlabel(r\"$\\gamma$\")\n",
    "    ax.set_ylabel(\"score\")\n",
    "    ax.set_xscale(\"log\")\n",
    "    ax.set_title(\"LabelPropagation rbf kernel\")\n",
    "    plt.show()\n",
    "    \n",
    "data = load_data()\n",
    "test_LabelPropagation_rbf(*data)"
   ]
  },
  {
   "cell_type": "code",
   "execution_count": 21,
   "metadata": {},
   "outputs": [
    {
     "data": {
      "image/png": "[encoded data removed]",
      "text/plain": [
       "<Figure size 432x288 with 1 Axes>"
      ]
     },
     "metadata": {
      "needs_background": "light"
     },
     "output_type": "display_data"
    }
   ],
   "source": [
    "def test_LabelPropagation_knn(*data):\n",
    "    '''\n",
    "   测试 LabelPropagation 的 knn 核时，预测性能随 alpha 和 n_neighbors 的变化\n",
    "\n",
    "    :param data:  一个元组，依次为： 样本集合、样本标记集合、 未标记样本的下标集合\n",
    "    :return:  None\n",
    "    '''\n",
    "    X,y,unlabeled_indices=data\n",
    "    y_train=np.copy(y) # 必须拷贝，后面要用到 y\n",
    "    y_train[unlabeled_indices]=-1 # 未标记样本的标记设定为 -1\n",
    "\n",
    "    fig=plt.figure()\n",
    "    ax=fig.add_subplot(1,1,1)\n",
    "    alphas=np.linspace(0.01,1,num=10,endpoint=True)\n",
    "    Ks=[1,2,3,4,5,8,10,15,20,25,30,35,40,50]\n",
    "    ## 训练并绘图\n",
    "    scores=[]\n",
    "    for K in Ks:\n",
    "        clf=LabelPropagation(max_iter=100,n_neighbors=K,kernel='knn')\n",
    "        clf.fit(X,y_train)\n",
    "        scores.append(clf.score(X[unlabeled_indices],y[unlabeled_indices]))\n",
    "    ax.plot(Ks,scores)\n",
    "\n",
    "    ### 设置图形\n",
    "    ax.set_xlabel(r\"$k$\")\n",
    "    ax.set_ylabel(\"score\")\n",
    "    ax.set_title(\"LabelPropagation knn kernel\")\n",
    "    plt.show()\n",
    "    \n",
    "test_LabelPropagation_knn(*data)"
   ]
  },
  {
   "cell_type": "markdown",
   "metadata": {},
   "source": [
    "## Label Spreading"
   ]
  },
  {
   "cell_type": "code",
   "execution_count": 22,
   "metadata": {},
   "outputs": [
    {
     "name": "stdout",
     "output_type": "stream",
     "text": [
      "Accuracy:0.972806\n"
     ]
    }
   ],
   "source": [
    "from sklearn.semi_supervised.label_propagation import LabelSpreading\n",
    "\n",
    "def test_LabelSpreading(*data):\n",
    "    '''\n",
    "    测试 LabelSpreading 的用法\n",
    "\n",
    "    :param data: 一个元组，依次为： 样本集合、样本标记集合、 未标记样本的下标集合\n",
    "    :return: None\n",
    "    '''\n",
    "    X,y,unlabeled_indices=data\n",
    "    y_train=np.copy(y) # 必须拷贝，后面要用到 y\n",
    "    y_train[unlabeled_indices]=-1 # 未标记样本的标记设定为 -1\n",
    "    clf=LabelSpreading(max_iter=100,kernel='rbf',gamma=0.1)\n",
    "    clf.fit(X,y_train)\n",
    "    ### 获取预测准确率\n",
    "    predicted_labels = clf.transduction_[unlabeled_indices] # 预测标记\n",
    "    true_labels = y[unlabeled_indices] # 真实标记\n",
    "    print(\"Accuracy:%f\"%metrics.accuracy_score(true_labels,predicted_labels))\n",
    "    \n",
    "test_LabelSpreading(*data)"
   ]
  },
  {
   "cell_type": "code",
   "execution_count": 24,
   "metadata": {},
   "outputs": [
    {
     "data": {
      "image/png": "[encoded data removed]",
      "text/plain": [
       "<Figure size 432x288 with 1 Axes>"
      ]
     },
     "metadata": {
      "needs_background": "light"
     },
     "output_type": "display_data"
    }
   ],
   "source": [
    "def test_LabelSpreading_rbf(*data):\n",
    "    X,y,unlabeled_indices=data\n",
    "    y_train=np.copy(y) # 必须拷贝，后面要用到 y\n",
    "    y_train[unlabeled_indices]=-1 # 未标记样本的标记设定为 -1\n",
    "\n",
    "    fig=plt.figure()\n",
    "    ax=fig.add_subplot(1,1,1)\n",
    "    alphas=np.linspace(0.01,1,num=5,endpoint=False)\n",
    "    gammas=np.logspace(-2,2,num=10)\n",
    "    colors=((1,0,0),(0,1,0),(0,0,1),(0.5,0.5,0),(0,0.5,0.5),(0.5,0,0.5),\n",
    "        (0.4,0.6,0),(0.6,0.4,0),(0,0.6,0.4),(0.5,0.3,0.2),) # 颜色集合，不同曲线用不同颜色\n",
    "    ## 训练并绘图\n",
    "    for alpha,color in zip(alphas,colors):\n",
    "        scores=[]\n",
    "        for gamma in gammas:\n",
    "            clf=LabelSpreading(max_iter=100,gamma=gamma,alpha=alpha,kernel='rbf')\n",
    "            clf.fit(X,y_train)\n",
    "            scores.append(clf.score(X[unlabeled_indices],y[unlabeled_indices]))\n",
    "        ax.plot(gammas,scores,label=r\"$\\alpha=%s$\"%alpha,color=color)\n",
    "\n",
    "    ### 设置图形\n",
    "    ax.set_xlabel(r\"$\\gamma$\")\n",
    "    ax.set_ylabel(\"score\")\n",
    "    ax.set_xscale(\"log\")\n",
    "    ax.legend(loc=\"best\")\n",
    "    ax.set_title(\"LabelSpreading rbf kernel\")\n",
    "    plt.show()\n",
    "    \n",
    "test_LabelSpreading_rbf(*data)"
   ]
  },
  {
   "cell_type": "code",
   "execution_count": 25,
   "metadata": {},
   "outputs": [
    {
     "data": {
      "image/png": "[encoded data removed]",
      "text/plain": [
       "<Figure size 432x288 with 1 Axes>"
      ]
     },
     "metadata": {
      "needs_background": "light"
     },
     "output_type": "display_data"
    }
   ],
   "source": [
    "def test_LabelSpreading_knn(*data):\n",
    "    X,y,unlabeled_indices=data\n",
    "    y_train=np.copy(y) # 必须拷贝，后面要用到 y\n",
    "    y_train[unlabeled_indices]=-1 # 未标记样本的标记设定为 -1\n",
    "\n",
    "    fig=plt.figure()\n",
    "    ax=fig.add_subplot(1,1,1)\n",
    "    alphas=np.linspace(0.01,1,num=5,endpoint=False)\n",
    "    Ks=[1,2,3,4,5,8,10,15,20,25,30,35,40,50]\n",
    "    colors=((1,0,0),(0,1,0),(0,0,1),(0.5,0.5,0),(0,0.5,0.5),(0.5,0,0.5),\n",
    "        (0.4,0.6,0),(0.6,0.4,0),(0,0.6,0.4),(0.5,0.3,0.2),) # 颜色集合，不同曲线用不同颜色\n",
    "    ## 训练并绘图\n",
    "    for alpha,color in zip(alphas,colors):\n",
    "        scores=[]\n",
    "        for K in Ks:\n",
    "            clf=LabelSpreading(kernel='knn',max_iter=100,n_neighbors=K,alpha=alpha)\n",
    "            clf.fit(X,y_train)\n",
    "            scores.append(clf.score(X[unlabeled_indices],y[unlabeled_indices]))\n",
    "        ax.plot(Ks,scores,label=r\"$\\alpha=%s$\"%alpha,color=color)\n",
    "\n",
    "    ### 设置图形\n",
    "    ax.set_xlabel(r\"$k$\")\n",
    "    ax.set_ylabel(\"score\")\n",
    "    ax.legend(loc=\"best\")\n",
    "    ax.set_title(\"LabelSpreading knn kernel\")\n",
    "    plt.show()\n",
    "    \n",
    "test_LabelSpreading_knn(*data)"
   ]
  },
  {
   "cell_type": "code",
   "execution_count": null,
   "metadata": {},
   "outputs": [],
   "source": []
  }
 ],
 "metadata": {
  "kernelspec": {
   "display_name": "Python 3.7.6 64-bit ('plaidml': conda)",
   "language": "python",
   "name": "python37664bitplaidmlconda9b9733a7327947c6b6c9181b8fe99ec9"
  },
  "language_info": {
   "codemirror_mode": {
    "name": "ipython",
    "version": 3
   },
   "file_extension": ".py",
   "mimetype": "text/x-python",
   "name": "python",
   "nbconvert_exporter": "python",
   "pygments_lexer": "ipython3",
   "version": "3.7.6"
  }
 },
 "nbformat": 4,
 "nbformat_minor": 4
}
